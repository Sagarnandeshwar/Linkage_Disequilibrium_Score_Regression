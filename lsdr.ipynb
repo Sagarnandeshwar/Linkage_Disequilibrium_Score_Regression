{
 "cells": [
  {
   "cell_type": "code",
   "execution_count": 1,
   "id": "535c4f4e",
   "metadata": {},
   "outputs": [],
   "source": [
    "import pandas as pd\n",
    "from sklearn import datasets, linear_model\n",
    "from sklearn.metrics import mean_squared_error, r2_score"
   ]
  },
  {
   "cell_type": "code",
   "execution_count": 2,
   "id": "0b0f6e18",
   "metadata": {},
   "outputs": [],
   "source": [
    "# Loading the data\n",
    "beta_marginal = pd.read_csv('data/beta_marginal.csv.gz', nrows=100, compression='gzip')\n",
    "ld = pd.read_csv('data/LD.csv.gz', nrows=100, compression='gzip')"
   ]
  },
  {
   "cell_type": "code",
   "execution_count": 3,
   "id": "d99b2aab",
   "metadata": {},
   "outputs": [],
   "source": [
    "# Changing name of unnamed coloum \n",
    "beta_marginal.rename( columns={'Unnamed: 0':'snp'}, inplace=True )\n",
    "ld.rename( columns={'Unnamed: 0':'snp'}, inplace=True )"
   ]
  },
  {
   "cell_type": "code",
   "execution_count": 4,
   "id": "66b437f2",
   "metadata": {},
   "outputs": [],
   "source": [
    "# The Y axisbeta_marginal\n",
    "snp_j = beta_marginal[\"snp\"]\n",
    "\n",
    "y = []\n",
    "for num in beta_marginal[\"V1\"]:\n",
    "    y.append(num*num)\n",
    "\n",
    "Y = pd.Series(y)\n",
    "Y = Y * 1000\n",
    "\n",
    "Y = Y.values\n",
    "Y = Y.reshape(-1,1)"
   ]
  },
  {
   "cell_type": "code",
   "execution_count": 5,
   "id": "e6cc6310",
   "metadata": {},
   "outputs": [],
   "source": [
    "# The x axis\n",
    "snp_j = beta_marginal[\"snp\"]\n",
    "\n",
    "x = []\n",
    "for i in range(100):\n",
    "    sum_f = 0\n",
    "    current_snp = ld.loc[i,\"snp\"]\n",
    "    for snp in snp_j:\n",
    "        if snp == current_snp:\n",
    "            continue\n",
    "        sum_f = sum_f + ld.loc[i,snp]\n",
    "    x.append(sum_f)\n",
    "\n",
    "X = pd.Series(x)\n",
    "X = X * (1000 / 4268)\n",
    "X = X + 1\n",
    "\n",
    "X = X.values\n",
    "X = X.reshape(-1,1)"
   ]
  },
  {
   "cell_type": "code",
   "execution_count": 6,
   "id": "5e4820b5",
   "metadata": {},
   "outputs": [
    {
     "data": {
      "text/plain": [
       "LinearRegression()"
      ]
     },
     "execution_count": 6,
     "metadata": {},
     "output_type": "execute_result"
    }
   ],
   "source": [
    "# Fitting the linear model\n",
    "regr = linear_model.LinearRegression()\n",
    "regr.fit(X, Y)"
   ]
  },
  {
   "cell_type": "code",
   "execution_count": 7,
   "id": "c279d87a",
   "metadata": {},
   "outputs": [
    {
     "name": "stdout",
     "output_type": "stream",
     "text": [
      "[[0.34044717]]\n"
     ]
    }
   ],
   "source": [
    "# Coefficient (H^2)\n",
    "print(regr.coef_)"
   ]
  },
  {
   "cell_type": "code",
   "execution_count": 8,
   "id": "30578729",
   "metadata": {},
   "outputs": [],
   "source": [
    "# estimated heritability = 0.34"
   ]
  },
  {
   "cell_type": "code",
   "execution_count": null,
   "id": "ba078f6c",
   "metadata": {},
   "outputs": [],
   "source": []
  }
 ],
 "metadata": {
  "kernelspec": {
   "display_name": "Python 3 (ipykernel)",
   "language": "python",
   "name": "python3"
  },
  "language_info": {
   "codemirror_mode": {
    "name": "ipython",
    "version": 3
   },
   "file_extension": ".py",
   "mimetype": "text/x-python",
   "name": "python",
   "nbconvert_exporter": "python",
   "pygments_lexer": "ipython3",
   "version": "3.9.12"
  }
 },
 "nbformat": 4,
 "nbformat_minor": 5
}
